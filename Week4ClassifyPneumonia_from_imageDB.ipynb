{
  "nbformat": 4,
  "nbformat_minor": 0,
  "metadata": {
    "colab": {
      "name": "Week4ClassifyPneumonia-from-imageDB.ipynb",
      "provenance": [],
      "include_colab_link": true
    },
    "kernelspec": {
      "name": "python3",
      "display_name": "Python 3"
    }
  },
  "cells": [
    {
      "cell_type": "markdown",
      "metadata": {
        "id": "view-in-github",
        "colab_type": "text"
      },
      "source": [
        "<a href=\"https://colab.research.google.com/github/peddlem25/ImagesofPneumonia-non_Dataset/blob/master/Week4ClassifyPneumonia_from_imageDB.ipynb\" target=\"_parent\"><img src=\"https://colab.research.google.com/assets/colab-badge.svg\" alt=\"Open In Colab\"/></a>"
      ]
    },
    {
      "cell_type": "code",
      "metadata": {
        "id": "lza4VysH1wbA",
        "colab_type": "code",
        "colab": {}
      },
      "source": [
        "import warnings\n",
        "warnings.filterwarnings(\"ignore\")"
      ],
      "execution_count": 0,
      "outputs": []
    },
    {
      "cell_type": "code",
      "metadata": {
        "id": "V90tWISZ1y15",
        "colab_type": "code",
        "colab": {}
      },
      "source": [
        "import numpy as np\n",
        "\n",
        "from IPython.display import clear_output\n",
        "\n",
        "%matplotlib inline"
      ],
      "execution_count": 0,
      "outputs": []
    },
    {
      "cell_type": "code",
      "metadata": {
        "id": "UEvup7KX12mg",
        "colab_type": "code",
        "colab": {}
      },
      "source": [
        "!pip install tensorflow-gpu\n",
        "!pip install h5py\n",
        "\n",
        "clear_output()"
      ],
      "execution_count": 0,
      "outputs": []
    },
    {
      "cell_type": "markdown",
      "metadata": {
        "id": "PIqO6qBK7K8n",
        "colab_type": "text"
      },
      "source": [
        "#Downloading Datasets"
      ]
    },
    {
      "cell_type": "code",
      "metadata": {
        "id": "SsOwvwrV15CP",
        "colab_type": "code",
        "colab": {}
      },
      "source": [
        "!wget https://data.mendeley.com/datasets/rscbjbr9sj/2/files/41d542e7-7f91-47f6-9ff2-dd8e5a5a7861/ChestXRay2017.zip\n",
        "\n",
        "clear_output()"
      ],
      "execution_count": 0,
      "outputs": []
    },
    {
      "cell_type": "code",
      "metadata": {
        "id": "5vDwO0xm2g9j",
        "colab_type": "code",
        "colab": {
          "base_uri": "https://localhost:8080/",
          "height": 63
        },
        "outputId": "ac6cc07b-09e0-4775-f8cc-90ed7dd21b24"
      },
      "source": [
        "!ls"
      ],
      "execution_count": 5,
      "outputs": [
        {
          "output_type": "stream",
          "text": [
            "ChestXRay2017.zip  sample_data\n"
          ],
          "name": "stdout"
        }
      ]
    },
    {
      "cell_type": "markdown",
      "metadata": {
        "id": "YAeR_8eL7Vcy",
        "colab_type": "text"
      },
      "source": [
        "#Inspect Zipfile ChestXRay2017.zip"
      ]
    },
    {
      "cell_type": "code",
      "metadata": {
        "id": "63t3QyaB2mAU",
        "colab_type": "code",
        "colab": {}
      },
      "source": [
        "from zipfile import ZipFile\n",
        "\n",
        "with ZipFile(\"./ChestXRay2017.zip\", \"r\") as f:\n",
        "    f.extractall(path = \"./\")"
      ],
      "execution_count": 0,
      "outputs": []
    },
    {
      "cell_type": "code",
      "metadata": {
        "id": "UxFSfN1m23sK",
        "colab_type": "code",
        "colab": {
          "base_uri": "https://localhost:8080/",
          "height": 63
        },
        "outputId": "ab057b25-8826-460f-acf7-6e682b2663eb"
      },
      "source": [
        "!ls"
      ],
      "execution_count": 8,
      "outputs": [
        {
          "output_type": "stream",
          "text": [
            "chest_xray  ChestXRay2017.zip  __MACOSX  sample_data\n"
          ],
          "name": "stdout"
        }
      ]
    },
    {
      "cell_type": "code",
      "metadata": {
        "id": "tZT9mlKr27aV",
        "colab_type": "code",
        "colab": {
          "base_uri": "https://localhost:8080/",
          "height": 63
        },
        "outputId": "c68f21f4-0b17-489d-cb44-da272fc7cf3a"
      },
      "source": [
        "!ls chest_xray"
      ],
      "execution_count": 9,
      "outputs": [
        {
          "output_type": "stream",
          "text": [
            "test  train\n"
          ],
          "name": "stdout"
        }
      ]
    },
    {
      "cell_type": "code",
      "metadata": {
        "id": "fBR6l9MN2-6l",
        "colab_type": "code",
        "colab": {
          "base_uri": "https://localhost:8080/",
          "height": 63
        },
        "outputId": "546d5c6c-dd32-4f56-e043-2f780cd92fb5"
      },
      "source": [
        "!ls chest_xray/train"
      ],
      "execution_count": 10,
      "outputs": [
        {
          "output_type": "stream",
          "text": [
            "NORMAL\tPNEUMONIA\n"
          ],
          "name": "stdout"
        }
      ]
    },
    {
      "cell_type": "code",
      "metadata": {
        "id": "SVsHXdkj3COj",
        "colab_type": "code",
        "colab": {
          "base_uri": "https://localhost:8080/",
          "height": 63
        },
        "outputId": "515f3f59-3bd2-4605-e205-8f64c80a2a1c"
      },
      "source": [
        "!ls chest_xray/test"
      ],
      "execution_count": 11,
      "outputs": [
        {
          "output_type": "stream",
          "text": [
            "NORMAL\tPNEUMONIA\n"
          ],
          "name": "stdout"
        }
      ]
    },
    {
      "cell_type": "markdown",
      "metadata": {
        "id": "PFeXGdwJ7kti",
        "colab_type": "text"
      },
      "source": [
        "#Create ImageGenorator instances for training, validating and testing"
      ]
    },
    {
      "cell_type": "code",
      "metadata": {
        "id": "K7IxE4It3GS3",
        "colab_type": "code",
        "colab": {}
      },
      "source": [
        "from pathlib import Path\n",
        "\n",
        "train_files = \"./chest_xray/train/\"\n",
        "test_files = \"./chest_xray/test/\"\n",
        "\n",
        "positive_class_folder_name = \"PNEUMONIA\"\n",
        "negative_class_folder_name = \"NORMAL\""
      ],
      "execution_count": 0,
      "outputs": []
    },
    {
      "cell_type": "code",
      "metadata": {
        "id": "HQvvg58v3KGS",
        "colab_type": "code",
        "colab": {
          "base_uri": "https://localhost:8080/",
          "height": 51
        },
        "outputId": "94ec3370-f8fc-4313-9671-fe67b2987e22"
      },
      "source": [
        "# training files\n",
        "\n",
        "# number of X-RAYS which show Pneumonia\n",
        "P = Path(train_files + positive_class_folder_name + \"/\")\n",
        "temp = list(P.glob(\"*.jpeg\"))\n",
        "print(\"Training-Pneumonia - %i \" % len(temp))\n",
        "\n",
        "# number of X-RAYS which are normal\n",
        "P = P = Path(train_files + negative_class_folder_name + \"/\")\n",
        "temp = list(P.glob(\"*.jpeg\"))\n",
        "print(\"Training-Normal - %i \" % len(temp))"
      ],
      "execution_count": 13,
      "outputs": [
        {
          "output_type": "stream",
          "text": [
            "Training-Pneumonia - 3883 \n",
            "Training-Normal - 1349 \n"
          ],
          "name": "stdout"
        }
      ]
    },
    {
      "cell_type": "code",
      "metadata": {
        "id": "GF7oMpuC3NnF",
        "colab_type": "code",
        "colab": {
          "base_uri": "https://localhost:8080/",
          "height": 51
        },
        "outputId": "d88cea7e-8f30-4c57-ff43-21dd901365ee"
      },
      "source": [
        "# testing files\n",
        "\n",
        "# number of X-RAYS which show Pneumonia\n",
        "P = Path(test_files + positive_class_folder_name + \"/\")\n",
        "temp = list(P.glob(\"*.jpeg\"))\n",
        "print(\"Testing-Pneumonia - %i \" % len(temp))\n",
        "\n",
        "# number of X-RAYS which are normal\n",
        "P = P = Path(test_files + negative_class_folder_name + \"/\")\n",
        "temp = list(P.glob(\"*.jpeg\"))\n",
        "print(\"Testing-Normal - %i \" % len(temp))"
      ],
      "execution_count": 14,
      "outputs": [
        {
          "output_type": "stream",
          "text": [
            "Testing-Pneumonia - 390 \n",
            "Testing-Normal - 234 \n"
          ],
          "name": "stdout"
        }
      ]
    },
    {
      "cell_type": "code",
      "metadata": {
        "id": "haVFIGhd3SkF",
        "colab_type": "code",
        "colab": {}
      },
      "source": [
        "# creating ImageDataGenerators for training\n",
        "\n",
        "\"\"\"\n",
        "The training data generator must have other augmentation parameters in addition to the rescaling\n",
        "parameter `rescale`.\n",
        "\n",
        "Why?\n",
        "\n",
        "-   The model needs to trained to learn to focus on the essential pieces that determine the answer\n",
        "    inspite of the possible variations it may find in new X-RAY images. Augmentation parameters like\n",
        "    random zooming and flipping simulate unpredictable variations\n",
        "-   The test images should be just like the real-life examples of X-RAY images: they don't have the simulated\n",
        "    effects like those in the training data.\n",
        "-   The images used for validation during training must also be like the test-images.\n",
        "    \n",
        "\"\"\"\n",
        "\n",
        "\n",
        "from tensorflow.keras.preprocessing.image import ImageDataGenerator\n",
        "\n",
        "train_generator = ImageDataGenerator(featurewise_center = True,\n",
        "                                     shear_range = 0.2,\n",
        "                                     rescale = 1.0/255,\n",
        "                                     horizontal_flip = True,\n",
        "                                     validation_split = 0.2)\n",
        "\n",
        "test_generator = ImageDataGenerator(rescale = 1.0/255)"
      ],
      "execution_count": 0,
      "outputs": []
    },
    {
      "cell_type": "code",
      "metadata": {
        "id": "BD7fkjmX3W2v",
        "colab_type": "code",
        "colab": {
          "base_uri": "https://localhost:8080/",
          "height": 68
        },
        "outputId": "85c791b5-9e54-45f4-c15a-631e175afe8e"
      },
      "source": [
        "# create batch iterators for the train, validation and test data\n",
        "\n",
        "train_iterator = train_generator.flow_from_directory(train_files, \n",
        "                                                     target_size = (150, 150),\n",
        "                                                     classes = [positive_class_folder_name, negative_class_folder_name],\n",
        "                                                     batch_size = 256, \n",
        "                                                     shuffle = True, \n",
        "                                                     class_mode = \"binary\",\n",
        "                                                     subset = \"training\")\n",
        "                                                    \n",
        "validation_iterator = train_generator.flow_from_directory(train_files, \n",
        "                                                          target_size = (150, 150),\n",
        "                                                          classes = [positive_class_folder_name, negative_class_folder_name],\n",
        "                                                          batch_size = 128, \n",
        "                                                          shuffle = False, \n",
        "                                                          class_mode = \"binary\",\n",
        "                                                          subset = \"validation\")\n",
        "\n",
        "test_iterator = test_generator.flow_from_directory(test_files, \n",
        "                                                   target_size = (150, 150), \n",
        "                                                   classes = [positive_class_folder_name, negative_class_folder_name],\n",
        "                                                   batch_size = 64, \n",
        "                                                   shuffle = False,\n",
        "                                                   class_mode = \"binary\")"
      ],
      "execution_count": 16,
      "outputs": [
        {
          "output_type": "stream",
          "text": [
            "Found 4187 images belonging to 2 classes.\n",
            "Found 1045 images belonging to 2 classes.\n",
            "Found 624 images belonging to 2 classes.\n"
          ],
          "name": "stdout"
        }
      ]
    },
    {
      "cell_type": "code",
      "metadata": {
        "id": "yM-Cgmml3aIP",
        "colab_type": "code",
        "colab": {
          "base_uri": "https://localhost:8080/",
          "height": 34
        },
        "outputId": "8bf78f84-3f50-4323-f457-3c780cbab57d"
      },
      "source": [
        "# count for class instances in training data\n",
        "\n",
        "class1 = sum(train_iterator.classes)\n",
        "class0 = len(train_iterator.classes) - class1\n",
        "\n",
        "print(\"Label 0 - %i, Label 1 - %i\" % (class0, class1))"
      ],
      "execution_count": 17,
      "outputs": [
        {
          "output_type": "stream",
          "text": [
            "Label 0 - 3107, Label 1 - 1080\n"
          ],
          "name": "stdout"
        }
      ]
    },
    {
      "cell_type": "code",
      "metadata": {
        "id": "BRw0kTAT3dN8",
        "colab_type": "code",
        "colab": {
          "base_uri": "https://localhost:8080/",
          "height": 34
        },
        "outputId": "06b4eebf-9d68-4119-8e97-b8920b78b7d6"
      },
      "source": [
        "# count for class instances in validation data\n",
        "\n",
        "class1 = sum(validation_iterator.classes)\n",
        "class0 = len(validation_iterator.classes) - class1\n",
        "\n",
        "print(\"Label 0 - %i, Label 1 - %i\" % (class0, class1))"
      ],
      "execution_count": 18,
      "outputs": [
        {
          "output_type": "stream",
          "text": [
            "Label 0 - 776, Label 1 - 269\n"
          ],
          "name": "stdout"
        }
      ]
    },
    {
      "cell_type": "code",
      "metadata": {
        "id": "1mb5UKJ73gZ6",
        "colab_type": "code",
        "colab": {
          "base_uri": "https://localhost:8080/",
          "height": 34
        },
        "outputId": "f5fd5252-9847-4f66-a870-1454e61951a7"
      },
      "source": [
        "# count for class instances in testing data\n",
        "\n",
        "class1 = sum(test_iterator.classes)\n",
        "class0 = len(test_iterator.classes) - class1\n",
        "\n",
        "print(\"Label 0 - %i, Label 1 - %i\" % (class0, class1))"
      ],
      "execution_count": 19,
      "outputs": [
        {
          "output_type": "stream",
          "text": [
            "Label 0 - 390, Label 1 - 234\n"
          ],
          "name": "stdout"
        }
      ]
    },
    {
      "cell_type": "code",
      "metadata": {
        "id": "eTz7Fv5y3khE",
        "colab_type": "code",
        "colab": {
          "base_uri": "https://localhost:8080/",
          "height": 34
        },
        "outputId": "e4752cfd-a00d-4488-e589-30308fb3d758"
      },
      "source": [
        "# defining category label weights as per imbalance amount of the training dataset\n",
        "\n",
        "from sklearn.utils.class_weight import compute_class_weight\n",
        "\n",
        "y = train_iterator.classes\n",
        "labels = np.unique(y)\n",
        "\n",
        "train_class_weights = compute_class_weight(\"balanced\", labels, y)\n",
        "train_class_weights"
      ],
      "execution_count": 20,
      "outputs": [
        {
          "output_type": "execute_result",
          "data": {
            "text/plain": [
              "array([0.67380109, 1.93842593])"
            ]
          },
          "metadata": {
            "tags": []
          },
          "execution_count": 20
        }
      ]
    },
    {
      "cell_type": "markdown",
      "metadata": {
        "id": "16rfxMAT3ogX",
        "colab_type": "text"
      },
      "source": [
        "#TransferLearning InceptionV3"
      ]
    },
    {
      "cell_type": "code",
      "metadata": {
        "id": "_xS2HoKF3ujs",
        "colab_type": "code",
        "colab": {
          "base_uri": "https://localhost:8080/",
          "height": 255
        },
        "outputId": "f2577b68-e0f4-40f5-c306-859fdc5c3529"
      },
      "source": [
        "# are the Colab GPUs available to tensorflow?\n",
        "\n",
        "from tensorflow.python.client import device_lib\n",
        "print(device_lib.list_local_devices())"
      ],
      "execution_count": 21,
      "outputs": [
        {
          "output_type": "stream",
          "text": [
            "[name: \"/device:CPU:0\"\n",
            "device_type: \"CPU\"\n",
            "memory_limit: 268435456\n",
            "locality {\n",
            "}\n",
            "incarnation: 3255217515523778222\n",
            ", name: \"/device:XLA_CPU:0\"\n",
            "device_type: \"XLA_CPU\"\n",
            "memory_limit: 17179869184\n",
            "locality {\n",
            "}\n",
            "incarnation: 3118553374217570036\n",
            "physical_device_desc: \"device: XLA_CPU device\"\n",
            "]\n"
          ],
          "name": "stdout"
        }
      ]
    },
    {
      "cell_type": "code",
      "metadata": {
        "id": "ANj94g-43yrw",
        "colab_type": "code",
        "colab": {}
      },
      "source": [
        "from tensorflow.keras.backend import clear_session\n",
        "\n",
        "from tensorflow.keras.layers import Dropout, GlobalAveragePooling2D, BatchNormalization, Dense\n",
        "\n",
        "from tensorflow.keras.models import Sequential, load_model, save_model\n",
        "from tensorflow.keras.applications.inception_v3 import InceptionV3\n",
        "from tensorflow.keras.optimizers import RMSprop"
      ],
      "execution_count": 0,
      "outputs": []
    },
    {
      "cell_type": "markdown",
      "metadata": {
        "id": "CXA88-O133u3",
        "colab_type": "text"
      },
      "source": [
        "#Modify InceptionV3"
      ]
    },
    {
      "cell_type": "code",
      "metadata": {
        "id": "tCYJnGiZ36gw",
        "colab_type": "code",
        "colab": {
          "base_uri": "https://localhost:8080/",
          "height": 598
        },
        "outputId": "cccc728a-2021-4c91-ecd9-a9a84c37110f"
      },
      "source": [
        "clear_session()\n",
        "\n",
        "base_model = InceptionV3(weights = \"imagenet\", include_top = False, input_shape = (150, 150, 3))\n",
        "clear_output()\n",
        "\n",
        "base_model.trainable = False\n",
        "myModel = Sequential([base_model,\n",
        "                      GlobalAveragePooling2D(),\n",
        "                      Dense(1024, activation = \"relu\"),\n",
        "                      Dropout(0.3),\n",
        "                      Dense(512, activation = \"relu\"),\n",
        "                      Dropout(0.3),\n",
        "                      Dense(256, activation = \"relu\"),\n",
        "                      Dropout(0.3),\n",
        "                      Dense(128, activation = \"relu\"),\n",
        "                      Dropout(0.3),\n",
        "                      Dense(1, activation = \"sigmoid\")])\n",
        "\n",
        "myModel.compile(RMSprop(), loss = \"binary_crossentropy\", metrics = [\"accuracy\"])\n",
        "myModel.summary()"
      ],
      "execution_count": 23,
      "outputs": [
        {
          "output_type": "stream",
          "text": [
            "WARNING:tensorflow:From /usr/local/lib/python3.6/dist-packages/tensorflow/python/ops/nn_impl.py:180: add_dispatch_support.<locals>.wrapper (from tensorflow.python.ops.array_ops) is deprecated and will be removed in a future version.\n",
            "Instructions for updating:\n",
            "Use tf.where in 2.0, which has the same broadcast rule as np.where\n",
            "Model: \"sequential\"\n",
            "_________________________________________________________________\n",
            "Layer (type)                 Output Shape              Param #   \n",
            "=================================================================\n",
            "inception_v3 (Model)         (None, 3, 3, 2048)        21802784  \n",
            "_________________________________________________________________\n",
            "global_average_pooling2d (Gl (None, 2048)              0         \n",
            "_________________________________________________________________\n",
            "dense (Dense)                (None, 1024)              2098176   \n",
            "_________________________________________________________________\n",
            "dropout (Dropout)            (None, 1024)              0         \n",
            "_________________________________________________________________\n",
            "dense_1 (Dense)              (None, 512)               524800    \n",
            "_________________________________________________________________\n",
            "dropout_1 (Dropout)          (None, 512)               0         \n",
            "_________________________________________________________________\n",
            "dense_2 (Dense)              (None, 256)               131328    \n",
            "_________________________________________________________________\n",
            "dropout_2 (Dropout)          (None, 256)               0         \n",
            "_________________________________________________________________\n",
            "dense_3 (Dense)              (None, 128)               32896     \n",
            "_________________________________________________________________\n",
            "dropout_3 (Dropout)          (None, 128)               0         \n",
            "_________________________________________________________________\n",
            "dense_4 (Dense)              (None, 1)                 129       \n",
            "=================================================================\n",
            "Total params: 24,590,113\n",
            "Trainable params: 2,787,329\n",
            "Non-trainable params: 21,802,784\n",
            "_________________________________________________________________\n"
          ],
          "name": "stdout"
        }
      ]
    },
    {
      "cell_type": "markdown",
      "metadata": {
        "id": "qpUX8w4H4CUx",
        "colab_type": "text"
      },
      "source": [
        "#Train the Model"
      ]
    },
    {
      "cell_type": "code",
      "metadata": {
        "id": "Pe8_TxU-4Euh",
        "colab_type": "code",
        "colab": {
          "base_uri": "https://localhost:8080/",
          "height": 1000
        },
        "outputId": "ff1eefe6-0723-4961-9889-b9f2b1657615"
      },
      "source": [
        "history = myModel.fit_generator(train_iterator, \n",
        "                                steps_per_epoch = len(train_iterator),\n",
        "                                epochs = 10,\n",
        "                                verbose = 1,\n",
        "                                workers = 20,\n",
        "                                validation_data = validation_iterator, \n",
        "                                validation_steps = len(validation_iterator),\n",
        "                                class_weight = train_class_weights)"
      ],
      "execution_count": 24,
      "outputs": [
        {
          "output_type": "stream",
          "text": [
            "Epoch 1/10\n",
            "17/17 [==============================] - 396s 23s/step - loss: 2.4291 - acc: 0.7081 - val_loss: 0.3682 - val_acc: 0.8737\n",
            "Epoch 2/10\n",
            "17/17 [==============================] - 374s 22s/step - loss: 0.5162 - acc: 0.7839 - val_loss: 0.4249 - val_acc: 0.8373\n",
            "Epoch 3/10\n",
            "17/17 [==============================] - 359s 21s/step - loss: 0.3512 - acc: 0.8593 - val_loss: 0.3909 - val_acc: 0.8603\n",
            "Epoch 4/10\n",
            "17/17 [==============================] - 358s 21s/step - loss: 0.3419 - acc: 0.8646 - val_loss: 0.5621 - val_acc: 0.7627\n",
            "Epoch 5/10\n",
            "17/17 [==============================] - 352s 21s/step - loss: 0.3359 - acc: 0.8667 - val_loss: 0.4350 - val_acc: 0.7981\n",
            "Epoch 6/10\n",
            "17/17 [==============================] - 347s 20s/step - loss: 0.2675 - acc: 0.9030 - val_loss: 0.4347 - val_acc: 0.8268\n",
            "Epoch 7/10\n",
            "17/17 [==============================] - 347s 20s/step - loss: 0.3149 - acc: 0.8820 - val_loss: 1.2979 - val_acc: 0.7751\n",
            "Epoch 8/10\n",
            "17/17 [==============================] - 345s 20s/step - loss: 0.2876 - acc: 0.8863 - val_loss: 0.9418 - val_acc: 0.5301\n",
            "Epoch 9/10\n",
            "17/17 [==============================] - 346s 20s/step - loss: 0.2239 - acc: 0.9100 - val_loss: 0.8793 - val_acc: 0.8067\n",
            "Epoch 10/10\n",
            "17/17 [==============================] - 349s 21s/step - loss: 0.2452 - acc: 0.9061 - val_loss: 0.6494 - val_acc: 0.7780\n"
          ],
          "name": "stdout"
        }
      ]
    },
    {
      "cell_type": "markdown",
      "metadata": {
        "id": "b9VjXIDoF1Gy",
        "colab_type": "text"
      },
      "source": [
        "#Save the Model"
      ]
    },
    {
      "cell_type": "code",
      "metadata": {
        "id": "83EmaVkmF28Z",
        "colab_type": "code",
        "colab": {}
      },
      "source": [
        "save_model(myModel, \"./myModel_after_10_epochs\", overwrite = True, include_optimizer = True)"
      ],
      "execution_count": 0,
      "outputs": []
    },
    {
      "cell_type": "markdown",
      "metadata": {
        "id": "DKCznYqbF8OU",
        "colab_type": "text"
      },
      "source": [
        "#Load the Model"
      ]
    },
    {
      "cell_type": "code",
      "metadata": {
        "id": "Bk3ri5axF-HO",
        "colab_type": "code",
        "colab": {
          "base_uri": "https://localhost:8080/",
          "height": 210
        },
        "outputId": "c3a83953-a34c-4980-8328-281409740d4a"
      },
      "source": [
        "myModel = load_model(\"./myModel_after_10_epochs\")"
      ],
      "execution_count": 26,
      "outputs": [
        {
          "output_type": "stream",
          "text": [
            "WARNING:tensorflow:From /usr/local/lib/python3.6/dist-packages/tensorflow/python/ops/init_ops.py:97: calling GlorotUniform.__init__ (from tensorflow.python.ops.init_ops) with dtype is deprecated and will be removed in a future version.\n",
            "Instructions for updating:\n",
            "Call initializer instance with the dtype argument instead of passing it to the constructor\n",
            "WARNING:tensorflow:From /usr/local/lib/python3.6/dist-packages/tensorflow/python/ops/init_ops.py:97: calling Zeros.__init__ (from tensorflow.python.ops.init_ops) with dtype is deprecated and will be removed in a future version.\n",
            "Instructions for updating:\n",
            "Call initializer instance with the dtype argument instead of passing it to the constructor\n",
            "WARNING:tensorflow:From /usr/local/lib/python3.6/dist-packages/tensorflow/python/ops/init_ops.py:97: calling Ones.__init__ (from tensorflow.python.ops.init_ops) with dtype is deprecated and will be removed in a future version.\n",
            "Instructions for updating:\n",
            "Call initializer instance with the dtype argument instead of passing it to the constructor\n"
          ],
          "name": "stdout"
        }
      ]
    },
    {
      "cell_type": "markdown",
      "metadata": {
        "id": "td9xf5GjGOq2",
        "colab_type": "text"
      },
      "source": [
        "#Compute Evaluation Metrics"
      ]
    },
    {
      "cell_type": "code",
      "metadata": {
        "id": "1H5ZruF2GSIt",
        "colab_type": "code",
        "colab": {
          "base_uri": "https://localhost:8080/",
          "height": 170
        },
        "outputId": "b9ea2fad-7eb7-4cf8-9d5f-77669ac7d899"
      },
      "source": [
        "from sklearn.metrics import classification_report\n",
        "\n",
        "\n",
        "yhat = myModel.predict_generator(test_iterator,\n",
        "                                 steps = len(test_iterator),\n",
        "                                 verbose = 0)  \n",
        "mask = yhat > 0.5\n",
        "yhat[mask] = 1\n",
        "yhat[~mask] = 0\n",
        "\n",
        "y = test_iterator.classes\n",
        "\n",
        "target_names = [positive_class_folder_name, negative_class_folder_name]\n",
        "print(classification_report(y, yhat, target_names = target_names))"
      ],
      "execution_count": 27,
      "outputs": [
        {
          "output_type": "stream",
          "text": [
            "              precision    recall  f1-score   support\n",
            "\n",
            "   PNEUMONIA       0.77      0.76      0.77       390\n",
            "      NORMAL       0.61      0.63      0.62       234\n",
            "\n",
            "    accuracy                           0.71       624\n",
            "   macro avg       0.69      0.69      0.69       624\n",
            "weighted avg       0.71      0.71      0.71       624\n",
            "\n"
          ],
          "name": "stdout"
        }
      ]
    },
    {
      "cell_type": "markdown",
      "metadata": {
        "id": "cbBN4SRmGjUW",
        "colab_type": "text"
      },
      "source": [
        "#Test Output"
      ]
    },
    {
      "cell_type": "code",
      "metadata": {
        "id": "hLD3s6V-GkuL",
        "colab_type": "code",
        "colab": {
          "base_uri": "https://localhost:8080/",
          "height": 729
        },
        "outputId": "bc640447-5b9b-4468-a576-dec80dfd3d11"
      },
      "source": [
        "from random import randint\n",
        "import matplotlib.pyplot as plt\n",
        "import cv2\n",
        "\n",
        "%matplotlib inline\n",
        "\n",
        "label_dict = {0:\"PNEUMONIA\", 1:\"NORMAL\"}\n",
        "\n",
        "test_file_names = test_iterator.filenames\n",
        "n = len(test_file_names)\n",
        "\n",
        "plt.rcParams[\"figure.figsize\"] = 12, 10\n",
        "\n",
        "for i in range(5):\n",
        "    index = randint(0, n - 1)\n",
        "    file_name = test_files + test_file_names[index]\n",
        "    \n",
        "    image = cv2.imread(file_name, cv2.IMREAD_COLOR)\n",
        "    image = cv2.cvtColor(image, cv2.COLOR_BGR2RGB)\n",
        "    \n",
        "    ground_truth_label = label_dict[int(y[index])]\n",
        "    predicted_label = label_dict[int(yhat[index])]\n",
        "    \n",
        "    plt.subplot(5, 1, i + 1)\n",
        "    plt.axis(\"off\")\n",
        "    plt.imshow(image)\n",
        "    \n",
        "    title = \"Ground Truth = \" + ground_truth_label + \", Predicted Label = \" + predicted_label\n",
        "    plt.title(title)\n",
        "\n",
        "plt.tight_layout()\n",
        "plt.show()"
      ],
      "execution_count": 28,
      "outputs": [
        {
          "output_type": "display_data",
          "data": {
            "image/png": "[encoded data removed]",
            "text/plain": [
              "<Figure size 864x720 with 5 Axes>"
            ]
          },
          "metadata": {
            "tags": []
          }
        }
      ]
    }
  ]
}